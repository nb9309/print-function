{
 "cells": [
  {
   "cell_type": "code",
   "execution_count": null,
   "metadata": {},
   "outputs": [],
   "source": [
    "# print function\n",
    "# syntax 1"
   ]
  },
  {
   "cell_type": "code",
   "execution_count": 1,
   "metadata": {},
   "outputs": [
    {
     "name": "stdout",
     "output_type": "stream",
     "text": [
      "9\n"
     ]
    }
   ],
   "source": [
    "b = 9\n",
    "print(b)"
   ]
  },
  {
   "cell_type": "code",
   "execution_count": 2,
   "metadata": {},
   "outputs": [
    {
     "name": "stdout",
     "output_type": "stream",
     "text": [
      "17.9 8.9 9\n"
     ]
    }
   ],
   "source": [
    "a=8.9\n",
    "c = a+b\n",
    "print(c,a,b)"
   ]
  },
  {
   "cell_type": "code",
   "execution_count": 4,
   "metadata": {},
   "outputs": [
    {
     "name": "stdout",
     "output_type": "stream",
     "text": [
      "hello python world\n",
      "hello python world\n",
      "helloworldof python\n",
      "hello python 4 world\n",
      "hello 5 what\n"
     ]
    }
   ],
   "source": [
    "#syntax:2\n",
    "\n",
    "print('hello python world')\n",
    "print('hello','python','world')\n",
    "print('hello''world''of python')\n",
    "print('hello', 'python','4', 'world')\n",
    "print('hello '+str(5)+' what')"
   ]
  },
  {
   "cell_type": "code",
   "execution_count": 8,
   "metadata": {},
   "outputs": [
    {
     "name": "stdout",
     "output_type": "stream",
     "text": [
      "4 5.6 9.6\n"
     ]
    }
   ],
   "source": [
    "a = int(input('enter value ='))\n",
    "b = float(input('enter value ='))\n",
    "c= a+b\n",
    "print(a,b,c)"
   ]
  },
  {
   "cell_type": "code",
   "execution_count": 19,
   "metadata": {},
   "outputs": [
    {
     "name": "stdout",
     "output_type": "stream",
     "text": [
      "sum of 4 , 5.6 is 9.6\n",
      "sum of 4,5.6 is 9.6\n",
      "value of a 4\n"
     ]
    }
   ],
   "source": [
    "# syntax:3\n",
    "# sum of 4,5.5 is 9.6\n",
    "print('sum of',a,',',b,'is',c)\n",
    "print('sum of '+ str( a)+str(',')+str(b)+' is '+str( c))\n",
    "print('value of a', a)\n"
   ]
  },
  {
   "cell_type": "code",
   "execution_count": 23,
   "metadata": {},
   "outputs": [
    {
     "name": "stdout",
     "output_type": "stream",
     "text": [
      "sum of 4,5.6 = 9.6\n",
      "val of c = 9.6\n"
     ]
    }
   ],
   "source": [
    "# syntax:4\n",
    "# sum of a,b = c\n",
    "print('sum of {},{} = {}'.format(a,b,c))\n",
    "print('val of c = {}'.format(c))"
   ]
  },
  {
   "cell_type": "code",
   "execution_count": 24,
   "metadata": {},
   "outputs": [
    {
     "name": "stdout",
     "output_type": "stream",
     "text": [
      "sum of 4,5.6 is 9.6\n"
     ]
    }
   ],
   "source": [
    "# syntax:5\n",
    "# sum of a,b is c\n",
    "print(f'sum of {a},{b} is {c}')"
   ]
  },
  {
   "cell_type": "code",
   "execution_count": 26,
   "metadata": {},
   "outputs": [
    {
     "name": "stdout",
     "output_type": "stream",
     "text": [
      "sum of 4, 5.600000 is 9.60\n"
     ]
    }
   ],
   "source": [
    "# syntax:6\n",
    "# sum of a,b is c\n",
    "print('sum of %d, %f is %0.2f' %(a,b,c)) \n"
   ]
  },
  {
   "cell_type": "code",
   "execution_count": 29,
   "metadata": {},
   "outputs": [
    {
     "name": "stdout",
     "output_type": "stream",
     "text": [
      "sum of 5,6.55 is 11.55\n"
     ]
    }
   ],
   "source": [
    "d = 5\n",
    "e = 6.5477\n",
    "f = d+e\n",
    "print('sum of %d,%0.2f is %0.2f' %(d,e,f))"
   ]
  },
  {
   "cell_type": "code",
   "execution_count": 30,
   "metadata": {},
   "outputs": [
    {
     "name": "stdout",
     "output_type": "stream",
     "text": [
      "This is my list [2, 7, 'hii', 'how are you', (3+7j)]\n"
     ]
    }
   ],
   "source": [
    "l1 = [2,7,'hii','how are you',3+7j]\n",
    "print('This is my list %s' %l1)"
   ]
  }
 ],
 "metadata": {
  "kernelspec": {
   "display_name": "base",
   "language": "python",
   "name": "python3"
  },
  "language_info": {
   "codemirror_mode": {
    "name": "ipython",
    "version": 3
   },
   "file_extension": ".py",
   "mimetype": "text/x-python",
   "name": "python",
   "nbconvert_exporter": "python",
   "pygments_lexer": "ipython3",
   "version": "3.9.19"
  }
 },
 "nbformat": 4,
 "nbformat_minor": 2
}
